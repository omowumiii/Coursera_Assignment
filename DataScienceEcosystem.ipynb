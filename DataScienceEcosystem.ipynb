{
 "cells": [
  {
   "cell_type": "code",
   "execution_count": 1,
   "id": "8afa4505-30ea-47f6-acdf-b0ab67e623bd",
   "metadata": {},
   "outputs": [],
   "source": [
    "# Exercise 2: Create markdown cell with title of the notebook"
   ]
  },
  {
   "cell_type": "markdown",
   "id": "e84ca4be-8953-4161-b01a-91a1deaaa582",
   "metadata": {},
   "source": [
    "# Data Science Tools and Ecosystem"
   ]
  },
  {
   "cell_type": "code",
   "execution_count": 2,
   "id": "baca61ec-e5fd-4a79-8928-c6edba8ba71b",
   "metadata": {},
   "outputs": [],
   "source": [
    "#Exercise 3 - Create a markdown cell for an introduction"
   ]
  },
  {
   "cell_type": "markdown",
   "id": "ee130802-79bd-4040-9092-db0ea872423c",
   "metadata": {},
   "source": [
    "# In this notebook, Data Science Tools and Ecosystem are summarized"
   ]
  },
  {
   "cell_type": "code",
   "execution_count": 4,
   "id": "5bf064a5-00d7-4c5d-9aac-09ee0187e1f5",
   "metadata": {},
   "outputs": [],
   "source": [
    "#Exercise 4 - Create a markdown cell to list data science languages"
   ]
  },
  {
   "cell_type": "markdown",
   "id": "9f769ebc-bda6-4475-811f-f804f17a7fb4",
   "metadata": {},
   "source": [
    "# Some of the popular languages that Data Scientists use are:\n",
    "\n",
    "1. **Python**\n",
    "   \n",
    "\n",
    "2. **R**\n",
    "   \n",
    "\n",
    "3. **SQL**\n",
    "   \n",
    "\n"
   ]
  },
  {
   "cell_type": "code",
   "execution_count": 5,
   "id": "6c2d4dd4-5726-4dca-a170-9ff089e024dc",
   "metadata": {},
   "outputs": [],
   "source": [
    "#Exercise 5 - Create a markdown cell to list data science libraries"
   ]
  },
  {
   "cell_type": "markdown",
   "id": "15540155-5773-4af8-a95f-b8c6662be5fa",
   "metadata": {},
   "source": [
    "# Some of the commonly used libraries used by Data Scientists include:\n",
    "1. **Pandas**\n",
    "\n",
    "2. **Numpy**\n",
    "\n",
    "3. **Matplotlib**\n",
    "   "
   ]
  },
  {
   "cell_type": "code",
   "execution_count": 6,
   "id": "43b71c79-221e-424a-b7c9-445c70c08a83",
   "metadata": {},
   "outputs": [],
   "source": [
    "# Exercise 6 - Create a markdown cell with a table of Data Science tools"
   ]
  },
  {
   "cell_type": "markdown",
   "id": "d19b2aa7-2803-4df6-a159-c00439a985c2",
   "metadata": {},
   "source": [
    "# Data Science Tools\n",
    "\n",
    "| **Data Science Tools**      |\n",
    "|-----------------------------|\n",
    "| Jupyter Notebooks           |\n",
    "| RStudio                     |\n",
    "| Apache Zeppelin             |\n"
   ]
  },
  {
   "cell_type": "code",
   "execution_count": 9,
   "id": "7322225b-c971-4491-bf7a-8d27adea3639",
   "metadata": {},
   "outputs": [],
   "source": [
    "# Exercise 7 - Create a markdown cell introducing arithmetic expression examples"
   ]
  },
  {
   "cell_type": "markdown",
   "id": "c6f13930-4519-4997-8f96-983c32a6965d",
   "metadata": {},
   "source": [
    "### Below are a few examples of evaluating arithmetic expressions in Python.\n"
   ]
  },
  {
   "cell_type": "code",
   "execution_count": 10,
   "id": "1ac8a9e0-92de-4686-b0c9-7f83277c4edd",
   "metadata": {},
   "outputs": [],
   "source": [
    " #Exercise 8 - Create a code cell to multiply and add numbers"
   ]
  },
  {
   "cell_type": "code",
   "execution_count": 11,
   "id": "fbffe7f4-5497-4f4e-b870-d326301ae0ca",
   "metadata": {},
   "outputs": [
    {
     "data": {
      "text/plain": [
       "17"
      ]
     },
     "execution_count": 11,
     "metadata": {},
     "output_type": "execute_result"
    }
   ],
   "source": [
    "(3*4)+5"
   ]
  },
  {
   "cell_type": "code",
   "execution_count": 12,
   "id": "0ab51360-5d8f-43dc-8624-44c4850e470d",
   "metadata": {},
   "outputs": [],
   "source": [
    "#Exercise 9 - Create a code cell to convert minutes to hours"
   ]
  },
  {
   "cell_type": "code",
   "execution_count": 13,
   "id": "7040c0eb-23fb-49a9-86d1-4e80f537baff",
   "metadata": {},
   "outputs": [
    {
     "data": {
      "text/plain": [
       "3.3333333333333335"
      ]
     },
     "execution_count": 13,
     "metadata": {},
     "output_type": "execute_result"
    }
   ],
   "source": [
    "# This will convert 200 minutes to hours by dividing by 60.\n",
    "minutes = 200\n",
    "hours = minutes / 60\n",
    "hours\n"
   ]
  },
  {
   "cell_type": "code",
   "execution_count": 14,
   "id": "10e041d3-a3e6-46c1-b1bf-62d26319db2f",
   "metadata": {},
   "outputs": [],
   "source": [
    " #Exercise 10 - Insert a markdown cell to list Objectives"
   ]
  },
  {
   "cell_type": "markdown",
   "id": "90bc152a-1952-4c80-bf89-5f3adf8e518e",
   "metadata": {},
   "source": [
    "**Objectives:**\n",
    "\n",
    "- List popular languages for Data Science.\n",
    "- Some of the commonly used libraries used by Data Scientists include\n",
    "- Understand how to evaluate arithmetic expressions in Python.\n",
    "- Recognize open-source development environment tools for Data Science.\n"
   ]
  },
  {
   "cell_type": "code",
   "execution_count": 15,
   "id": "5af0b64f-aa52-4306-9700-c514ff5a3995",
   "metadata": {},
   "outputs": [],
   "source": [
    "#Exercise 11 - Create a markdown cell to indicate the Author's name"
   ]
  },
  {
   "cell_type": "markdown",
   "id": "d578639f-282a-45b6-b7ce-aa5a2ea91830",
   "metadata": {},
   "source": [
    "## Author\n",
    "\n",
    "Lakshmi Holla\n",
    "\n",
    "Niveditha Pandith\n",
    "\n",
    "Ambali Ajarah Omowumi\n"
   ]
  },
  {
   "cell_type": "code",
   "execution_count": null,
   "id": "ca2e5554-bfcf-42d8-b9fe-886d355dc7ed",
   "metadata": {},
   "outputs": [],
   "source": []
  }
 ],
 "metadata": {
  "kernelspec": {
   "display_name": "Python 3 (ipykernel)",
   "language": "python",
   "name": "python3"
  },
  "language_info": {
   "codemirror_mode": {
    "name": "ipython",
    "version": 3
   },
   "file_extension": ".py",
   "mimetype": "text/x-python",
   "name": "python",
   "nbconvert_exporter": "python",
   "pygments_lexer": "ipython3",
   "version": "3.11.7"
  }
 },
 "nbformat": 4,
 "nbformat_minor": 5
}
